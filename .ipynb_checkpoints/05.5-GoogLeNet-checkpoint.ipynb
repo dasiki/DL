{
 "cells": [
  {
   "cell_type": "markdown",
   "metadata": {},
   "source": [
    "## **GoogLeNet - 含并行连结的网络**"
   ]
  },
  {
   "cell_type": "markdown",
   "metadata": {},
   "source": [
    "### **Inception 块**"
   ]
  },
  {
   "cell_type": "markdown",
   "metadata": {},
   "source": [
    "GoogleNet中的基础卷积块叫作Inception块。\n",
    "\n",
    "Inception块里含有4条并行的线路。前3条线路使用窗口大小分别是 $1\\times 1$、$3\\times 3$和$5\\times 5$ 的卷积层来抽取不同空间尺寸下的信息，其中中间2个线路会对输入先做 $1\\times 1$卷积来减少输入通道数，以降低模型复杂度。\n",
    "\n",
    "第4条线路则使用 $3\\times 3$最大池化层，后接 $1\\times 1$卷积层来改变通道数。 \n",
    "\n",
    "4条线路都使用了合适的填充来使输入与输出的高和宽一致。最后我们将每条线路的输出在通道上连接，并输入接下来的层中去。\n",
    "\n",
    "**Inception块中可以自定义的超参数是每个层的输出通道数，我 们以此来控制模型复杂度。**"
   ]
  },
  {
   "cell_type": "markdown",
   "metadata": {},
   "source": [
    "<img src = \"GoogLeNet.png\"></img>"
   ]
  },
  {
   "cell_type": "markdown",
   "metadata": {},
   "source": []
  },
  {
   "cell_type": "code",
   "execution_count": 1,
   "metadata": {},
   "outputs": [],
   "source": [
    "import d2lzh as d2l\n",
    "from mxnet import gluon,init,nd\n",
    "from mxnet.gluon import nn\n",
    "\n",
    "class Inception(nn.Block):\n",
    "    # c1-c4为每条线路里的层的输出通道数\n",
    "    def __init__(self,c1,c2,c3,c4,**kwargs):\n",
    "        super(Inception, self).__init__(**kwargs)\n",
    "        \n",
    "        # 线路1，单1*1卷积层\n",
    "        self.p1_1 = nn.Conv2D(c1, kernel_size = 1, activation = 'relu')\n",
    "        \n",
    "        # 线路2，1*1卷积层后接3*3卷积层\n",
    "        self.p2_1 = nn.Conv2D(c2[0], kernel_size = 1, activation = 'relu')\n",
    "        self.p2_2 = nn.Conv2D(c2[1], kernel_size = 3, padding = 1, activation = 'relu')\n",
    "        \n",
    "        # 线路3， 1*1卷积层后，接5*5卷积层\n",
    "        self.p3_1 = nn.Conv2D(c3[0], kernel_size = 1, activation = 'relu')\n",
    "        self.p3_2 = nn.Conv2D(c3[1], kernel_size = 5, padding = 2, activation = 'relu')\n",
    "        \n",
    "        # 线路4，3*3卷积层后，接1*1卷积层\n",
    "        self.p4_1 = nn.MaxPool2D(pool_size = 3, strides = 1, padding = 1)\n",
    "        self.p4_2 = nn.Conv2D(c4, kernel_size = 1, activation = 'relu')\n",
    "        \n",
    "    def forwawrd(self,X):\n",
    "        p1 = self.p1_1(X)\n",
    "        p2 = self.p2_2(self.p2_1(X))\n",
    "        p3 = self.p3_2(self.p3_1(X))\n",
    "        p4 = self.p4_2(self.p4_1(X))\n",
    "        \n",
    "        return nd.concat(p1,p2,p3,p4,dim = 1) # 在通道维上连续输出\n",
    "        "
   ]
  },
  {
   "cell_type": "markdown",
   "metadata": {},
   "source": [
    "### **GoogLeNet模型**\n",
    "\n",
    "GoogLeNet 跟 VGG 一样，在主体卷积部分使用5个模块（block)，每个模型之间使用步幅为2的$3\\times 3$最大池化层来减小输出高宽。"
   ]
  },
  {
   "cell_type": "code",
   "execution_count": 2,
   "metadata": {},
   "outputs": [],
   "source": [
    "# 第一模型使用一个64通道的 7*7卷积层\n",
    "\n",
    "b1 = nn.Sequential()\n",
    "b1.add(nn.Conv2D(64, kernel_size = 7, strides = 2, padding = 3, activation = 'relu'),\n",
    "       nn.MaxPool2D(pool_size = 3, strides = 2, padding = 1))"
   ]
  },
  {
   "cell_type": "code",
   "execution_count": 10,
   "metadata": {},
   "outputs": [],
   "source": [
    "# 第二个模块使用2个卷积层：首先是64通道的1*1卷积层，然后是将通道增大3倍的3*3卷积层。它对应Inception块中的第二条线路\n",
    "\n",
    "b2 = nn.Sequential()\n",
    "b2.add(nn.Conv2D(64, kernel_size = 1, activation='relu'),\n",
    "       nn.Conv2D(192, kernel_size = 3, padding = 1, activation = 'relu'),\n",
    "       nn.MaxPool2D(pool_size = 3, strides = 2, padding = 1))"
   ]
  },
  {
   "cell_type": "markdown",
   "metadata": {},
   "source": [
    "第三个模块串联2个完成的Inception块。\n",
    "\n",
    "第1个Inception块的输出通道数为 64 + 128 + 32 + 32 = 256， 其中4条线路的输出通道比例数为 64:128:32:32 = 2:4:1:1。其中，第二、第三条线路先分别将输入通道数减少至 96/192 = 1/2和 16/192 = 1/12后，再接上第二层卷积层。\n",
    "\n",
    "第2个Inception块的输出通道数增至 128 + 192 + 96 + 64 = 480，每条线路的输出通道数之比为 128:192:96:64 = 4:6:3:2。其中第2、第3条线路先分别将输入通道数减少至128/256 = 1/2 和 32/256 = 1/8\n"
   ]
  },
  {
   "cell_type": "code",
   "execution_count": 11,
   "metadata": {},
   "outputs": [],
   "source": [
    "\n",
    "b3 = nn.Sequential()\n",
    "b3.add(Inception(64, (96, 128), (16, 32), 32),\n",
    "       Inception(128, (128, 192), (32, 96), 64),\n",
    "       nn.MaxPool2D(pool_size=3, strides=2, padding=1))"
   ]
  },
  {
   "cell_type": "markdown",
   "metadata": {},
   "source": [
    "第4个模块串联了5个Inception块，其输出通道分别为：\n",
    "\n",
    "192 + 208 + 48 + 64 = 512， 160 + 224 + 64 + 64 = 512， 128 + 256 + 64 + 64 = 512， 112 + 288 + 64 + 64 = 528， 256 + 320 + 128 + 128 = 832\n",
    "\n",
    "这些线路的通道数分配和第三模块中的类似，首先是含$3\\times 3$卷积层的第2条线路输出最多通道，其次是仅含$1\\times 1$卷积层的第1通道，之后是$5\\times 5$卷积层的第3条线路和含有$3\\times 3$最大池化层的第4条线路。\n",
    "\n",
    "其中，第2、第3条线路会按比例减小通道数。这些比例在各个Inception块中都略有不同。\n"
   ]
  },
  {
   "cell_type": "code",
   "execution_count": 16,
   "metadata": {},
   "outputs": [],
   "source": [
    "b4 = nn.Sequential()\n",
    "b4.add(Inception(192, (96, 208), (16, 48), 64),\n",
    "       Inception(160, (112, 224), (24, 64), 64),\n",
    "       Inception(128, (128, 256), (24, 64), 64),\n",
    "       Inception(112, (144, 288), (32, 64), 64),\n",
    "       Inception(256, (160, 320), (32, 128), 128),\n",
    "       nn.MaxPool2D(pool_size=3, strides=2, padding=1))"
   ]
  },
  {
   "cell_type": "markdown",
   "metadata": {},
   "source": [
    "第五模块 有输出通道数为256+320+128+128=832和384+384+128+128=1024的两个Inception块。其中，每条线路的通道数的分配思路和第三、第四模块中的一致，只是在具体数值上有所不同。\n",
    "\n",
    "第五模块的后面紧跟输出层，该模块同NiN一样使用全局平均池化层来将每个通道的高和宽变为1.最后将输出变成一个二维数组后接上一个输出个数为标签类别数的全连接层。\n",
    "\n"
   ]
  },
  {
   "cell_type": "code",
   "execution_count": 17,
   "metadata": {},
   "outputs": [],
   "source": [
    "b5 = nn.Sequential()\n",
    "b5.add(Inception(256, (160,320), (32,128),128),\n",
    "       Inception(384, (192,384),(48,128),128),\n",
    "       nn.GlobalAvgPool2D())\n",
    "\n",
    "net = nn.Sequential()\n",
    "net.add(b1,b2,b3,b4,b5,nn.Dense(10))"
   ]
  },
  {
   "cell_type": "code",
   "execution_count": null,
   "metadata": {},
   "outputs": [],
   "source": [
    "X = nd.random.uniform(shape = (1,1,96,96))\n",
    "net.initialize()\n",
    "for layer in net:\n",
    "    X = layer(X)\n",
    "    print(layer.name,\"output shape: \\t\", X.shape)"
   ]
  },
  {
   "cell_type": "markdown",
   "metadata": {},
   "source": []
  }
 ],
 "metadata": {
  "kernelspec": {
   "display_name": "Python 3",
   "language": "python",
   "name": "python3"
  },
  "language_info": {
   "codemirror_mode": {
    "name": "ipython",
    "version": 3
   },
   "file_extension": ".py",
   "mimetype": "text/x-python",
   "name": "python",
   "nbconvert_exporter": "python",
   "pygments_lexer": "ipython3",
   "version": "3.6.10"
  }
 },
 "nbformat": 4,
 "nbformat_minor": 4
}
