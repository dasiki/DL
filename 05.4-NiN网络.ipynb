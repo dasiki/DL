{
 "cells": [
  {
   "cell_type": "markdown",
   "metadata": {},
   "source": [
    "## **NiN网络 - 网络中的网络**"
   ]
  },
  {
   "cell_type": "markdown",
   "metadata": {},
   "source": [
    "LeNet、AlexNet和VGG在设计上的共同之处是：先以由卷积层构成的模块充分抽取空间特征，再以由全连接层构成的模块来输出分类结果。其中，AlexNet和VGG对LeNet的改进主要在于如何对这两个模块加宽（增加通道数）和加深。"
   ]
  },
  {
   "cell_type": "markdown",
   "metadata": {},
   "source": [
    "NiN提取了另外一个思路，即串联多个由卷积层和“全连接”层构成的小网络来构建一个深层网络。"
   ]
  },
  {
   "cell_type": "markdown",
   "metadata": {},
   "source": [
    "### **NiN块**"
   ]
  },
  {
   "cell_type": "markdown",
   "metadata": {},
   "source": [
    "卷积层的输入和输出通常是4维数组（样本，通道，高、宽），而全连接层的输入和输出则通常是二维数组（样本，特征）。如果想在全连接层后再接上卷积层，则需要将全连接层的输出变换为4维。$1\\times 1$卷积层，它可以看成全连接层，其中空间维度（高和宽）上的每个元素相当于样本，通道相当于特征。因此，NiN使用 $1\\times 1$卷积层来替代全连接层，从而使空间信息能够自然传递到后面的层中去。"
   ]
  },
  {
   "cell_type": "markdown",
   "metadata": {},
   "source": [
    "<img src=\"NiN.png\"></img>"
   ]
  },
  {
   "cell_type": "markdown",
   "metadata": {},
   "source": [
    "NiN块是NiN中的基础块。它由一个卷积层加两个充当全连接层的$1\\times 1$卷积层串联而成。其中，第一个卷积层的超参数可以自行设置，而第二个和第三个卷积层的超参数一般是固定的。\n"
   ]
  },
  {
   "cell_type": "markdown",
   "metadata": {},
   "source": []
  },
  {
   "cell_type": "code",
   "execution_count": 1,
   "metadata": {},
   "outputs": [],
   "source": [
    "import d2lzh as d2l\n",
    "from mxnet import gluon,init,nd\n",
    "from mxnet.gluon import nn \n",
    "\n",
    "def nin_block(num_channels,kernel_size,strides,padding):\n",
    "    blk = nn.Sequential()\n",
    "    blk.add(nn.Conv2D(num_channels, kernel_size, strides, padding, activation = \"relu\"),\n",
    "            nn.Conv2D(num_channels, kernel_size = 1, activation = \"relu\"),\n",
    "            nn.Conv2D(num_channels, kernel_size = 1, activation = 'relu'))\n",
    "    return blk"
   ]
  },
  {
   "cell_type": "markdown",
   "metadata": {},
   "source": [
    "### **NiN模型**"
   ]
  },
  {
   "cell_type": "markdown",
   "metadata": {},
   "source": [
    "NiN与AlexNet的卷积层设定有类似之处。NiN使用卷积窗口形状分别为 $11\\times 11$、$5\\times 5$ 和 $3\\times 3$ 的卷积层，相应的输出通道数也与AlexNet中的一致。每个NiN后接一个步幅为2、窗口形状为$3\\times 3$的最大池化。\n",
    "\n",
    "NiN与AlexNet的不同：NiN去掉了AlexNet最后的3个全连接层，取而代之的，NiN使用了输出通道数等于标签类别数的NiN块，然后使用全局平均池化对每个通道中的所有元素求平均并直接用于分类。这里的全局平均池化层即窗口形状等于输入空间维形状的平均池化层。NiN的这个设计的好处是可以显著减小模型参数尺寸，从而缓解过拟合。然而，该设计有时会造成获得有效模型的训练时间的增加。\n",
    "\n"
   ]
  },
  {
   "cell_type": "code",
   "execution_count": 2,
   "metadata": {},
   "outputs": [],
   "source": [
    "net = nn.Sequential()\n",
    "net.add(nin_block(96, kernel_size = 11, strides = 4, padding = 0 ),\n",
    "        nn.MaxPool2D(pool_size = 3, strides = 2), \n",
    "        nin_block(256, kernel_size = 5, strides = 1, padding = 2 ),\n",
    "        nn.MaxPool2D(pool_size = 3, strides = 2),\n",
    "        nin_block(384, kernel_size = 3, strides = 1, padding = 1),\n",
    "        nn.MaxPool2D(pool_size = 3, strides = 2),\n",
    "        nn.Dropout(0.5),\n",
    "        # 标签类别数是10\n",
    "        nin_block(10, kernel_size = 3, strides = 1, padding = 1),\n",
    "        # 全局平均池化层将窗口形状自动设置成输入的高和宽\n",
    "        nn.GlobalAvgPool2D(),\n",
    "        # 将4维的输出转成2维的输出，其形状为(批大小，10)\n",
    "        nn.Flatten())\n",
    "\n"
   ]
  },
  {
   "cell_type": "code",
   "execution_count": 3,
   "metadata": {},
   "outputs": [
    {
     "name": "stdout",
     "output_type": "stream",
     "text": [
      "sequential1 output shape: \t (1, 96, 54, 54)\n",
      "pool0 output shape: \t (1, 96, 26, 26)\n",
      "sequential2 output shape: \t (1, 256, 26, 26)\n",
      "pool1 output shape: \t (1, 256, 12, 12)\n",
      "sequential3 output shape: \t (1, 384, 12, 12)\n",
      "pool2 output shape: \t (1, 384, 5, 5)\n",
      "dropout0 output shape: \t (1, 384, 5, 5)\n",
      "sequential4 output shape: \t (1, 10, 5, 5)\n",
      "pool3 output shape: \t (1, 10, 1, 1)\n",
      "flatten0 output shape: \t (1, 10)\n"
     ]
    }
   ],
   "source": [
    "# 构建一个数据样本来查看每一层的输出形状\n",
    "X = nd.random.uniform(shape = (1,1,224,224))\n",
    "net.initialize()\n",
    "for layer in net:\n",
    "    X = layer(X)\n",
    "    print(layer.name,\"output shape: \\t\",X.shape)"
   ]
  },
  {
   "cell_type": "code",
   "execution_count": null,
   "metadata": {},
   "outputs": [],
   "source": [
    "# 训练模型\n",
    "lr, num_epochs, batch_size, ctx = 0.1, 5, 10, d2l.try_gpu()\n",
    "\n",
    "net.initialize(force_reinit=True, ctx = ctx, init = init.Xavier())\n",
    "trainer = gluon.Trainer(net.collect_params(), 'sgd', {'learning_rate': lr})\n",
    "\n",
    "train_iter, test_iter = d2l.load_data_fashion_mnist(batch_size, resize = 224)\n",
    "d2l.train_ch5(net, train_iter , test_iter, batch_size, trainer, ctx, num_epochs)\n"
   ]
  },
  {
   "cell_type": "markdown",
   "metadata": {},
   "source": []
  },
  {
   "cell_type": "markdown",
   "metadata": {},
   "source": [
    "NiN重复使用由卷积层和代替全连接层的 $1\\times 1$卷积层构成的NiN块来构建深层网络。\n",
    "\n",
    "NiN去除了容易造成过拟合的全连接输出层，而是将其替换成输出通道数等于标签类别数的NiN块和全局平均池化层。\n",
    "\n",
    "NiN的以上设计思想影响了后面一系列卷积神经网络的设计。\n"
   ]
  },
  {
   "cell_type": "markdown",
   "metadata": {},
   "source": []
  }
 ],
 "metadata": {
  "kernelspec": {
   "display_name": "Python 3",
   "language": "python",
   "name": "python3"
  },
  "language_info": {
   "codemirror_mode": {
    "name": "ipython",
    "version": 3
   },
   "file_extension": ".py",
   "mimetype": "text/x-python",
   "name": "python",
   "nbconvert_exporter": "python",
   "pygments_lexer": "ipython3",
   "version": "3.6.7"
  }
 },
 "nbformat": 4,
 "nbformat_minor": 4
}
