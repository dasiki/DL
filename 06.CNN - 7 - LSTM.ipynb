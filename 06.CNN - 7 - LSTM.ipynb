{
 "cells": [
  {
   "cell_type": "markdown",
   "metadata": {},
   "source": [
    "## **长短期记忆（long short-term memory, LSTM）**"
   ]
  },
  {
   "cell_type": "markdown",
   "metadata": {},
   "source": [
    "1、长短期记忆的隐藏层输出包括隐藏状态和记忆细胞。只有隐藏状态会传递到输出层。\n",
    "2、长短期记的输入门、遗忘门和输出门可以控制信息的流动。\n",
    "3、长短期记可以应对循环神经网络中的梯度衰减问题，并更好地捕捉时间序列中时间步距离较大的依赖关系。"
   ]
  },
  {
   "cell_type": "markdown",
   "metadata": {},
   "source": [
    "<img src='lstm4.png' width = 500></img>"
   ]
  },
  {
   "cell_type": "markdown",
   "metadata": {},
   "source": []
  },
  {
   "cell_type": "markdown",
   "metadata": {},
   "source": [
    "### **1、长短期记忆**\n",
    "\n",
    "LSTM中引入了3个门，即输入门(input gate)、遗忘门（forget gate)和输出门（output gate)以及与隐藏状态形状相同的记忆细胞，从而记录额外的信息。"
   ]
  },
  {
   "cell_type": "markdown",
   "metadata": {},
   "source": [
    "#### **1）输入门、遗忘门和输出门**"
   ]
  },
  {
   "cell_type": "markdown",
   "metadata": {},
   "source": [
    "与门控循环单元中的重置门和更新门一样，如图6.7所示，长短期记忆的输入均为当前时间步输入 $X_t$ 与上一时间步隐藏状态 $H_{t-1}$，输出由激活函数为sigmoid函数的全连接层计算得到。如果一来，这3个门元素的值域均为$[0,1]$.\n",
    "\n",
    "具体来说，假设隐藏单个个数为 $h$，给定时间步 $t$ 的小批量输入 $X_t\\in \\mathcal{R}^{n\\times d}$（样本数为n，输入个数为d）和上一时间步隐藏状态 $H_{t-1}\\in \\mathcal{R}^{n\\times h}$。时间步 $t$ 的输入门 $I_t\\in \\mathcal{R}^{n\\times h}$、遗忘门 $F_t\\in\\mathcal{R}^{n\\times h}$ 和输出门 $O_t\\in\\mathcal{R}^{n\\times h}$ 分别计算如下：\n",
    "#### $$\\begin{align} & I_t  = \\sigma(X_tW_{xi} + H_{t-1}W_{hi} + b_i) \\\\\n",
    "                     & F_t = \\sigma(X_tW_{xf} + H_{t-1}W_{hf} + b_f) \\\\ \n",
    "                     & O_t = \\sigma(X_tW_{xo} + H_{t-1}W_{ho} + b_o) \\end{align}$$ \n",
    "其中，$W_{xi},W_{xf},W_{xo}\\in\\mathcal{R}^{d\\times h}$ 和 $W_{hi},W_{hf},W_{ho}\\in\\mathcal{R}^{h\\times h}$ 是权重参数，$b_i,b_f,b_o\\in\\mathcal{R}^{1\\times h}$ 是偏差参数。"
   ]
  },
  {
   "cell_type": "markdown",
   "metadata": {},
   "source": [
    "<img src = 'lstm1.png' width = 600></img>"
   ]
  },
  {
   "cell_type": "markdown",
   "metadata": {},
   "source": []
  },
  {
   "cell_type": "markdown",
   "metadata": {},
   "source": [
    "#### **2）、候选记忆细胞**"
   ]
  },
  {
   "cell_type": "markdown",
   "metadata": {},
   "source": [
    "接下来，长短期记忆需要计算候选记忆细胞 $\\tilde{C}_t$。它的计算与上面介绍的3个门类似，但是使用了值域在 $[-1,1]$ 的tanh函数作为激活函数。如图6.8所示。\n",
    "\n",
    "具体来说，时间步 $t$ 的候选记忆细胞 $\\tilde{C}_t\\in \\mathcal{R}^{n\\times d}$ 的计算为\n",
    "#### $$ \\tilde{C}_t = tanh(X_tW_{xc} + H_{t-1}W_{hc} + b_c)$$\n",
    "其中，$W_{xc}\\in \\mathcal{R}^{d\\times h}$ 和 $W_{hc}\\in \\mathcal{R}^{h\\times h}$ 是权重参数，  $b_c \\in \\mathcal{R}^{1\\times h}$ 是偏差参数。\n"
   ]
  },
  {
   "cell_type": "markdown",
   "metadata": {},
   "source": [
    "<img src = 'lstm2.png' width = 500></img>"
   ]
  },
  {
   "cell_type": "markdown",
   "metadata": {},
   "source": []
  },
  {
   "cell_type": "markdown",
   "metadata": {},
   "source": [
    "#### **3）记忆细胞**"
   ]
  },
  {
   "cell_type": "markdown",
   "metadata": {},
   "source": [
    "我们可以通过元素值域在 $[0,1]$ 的输入门、遗忘门和输出门来控制隐藏状态中信息的流动，这一般也是通过使用按元素乘法（符号为 $\\varTheta$）来实现。 \n",
    "\n",
    "当前时间步记细胞 $C_t \\in \\mathcal{R}^{n\\times h}$ 的计算组合了上一时间步记忆细胞和当前时间步候选记忆细胞信息，并通过遗忘门和输入门来控制信息流动：\n",
    "#### $$ C_t = F_t\\varTheta C_{t-1} + I_t\\varTheta \\tilde{C}_t $$ \n",
    "如图6.9所示，**遗忘门控制上一时间步的记忆细胞 $C_{t-1}$中的信息是否传递到当前时间步，而输入门则控制当前时间步的输入 $X_t$ 通过候选记忆细胞 $\\tilde{C}_t$ 如何流入当前时间步的记忆细胞**。\n",
    "\n",
    "如果遗忘门一直近似1且输入门一直近似0，过去的记细胞将一直通过时间保存并传递到当前时间步。这个设计可以应对循环神经网络中的梯度衰减问题，并更好地捕捉时间序列中时间步距离较大的依赖关系。"
   ]
  },
  {
   "cell_type": "markdown",
   "metadata": {},
   "source": [
    "<img src = 'lstm3.png' width = 500></img>"
   ]
  },
  {
   "cell_type": "markdown",
   "metadata": {},
   "source": [
    "#### **4）隐藏状态**"
   ]
  },
  {
   "cell_type": "markdown",
   "metadata": {},
   "source": [
    "有了记忆细胞以后，接下来我们还可以**通过输出门来控制从记忆细胞到隐藏状态 $H_t\\in \\mathcal{R}^{n\\times h}$** 的信息的流动：\n",
    "#### $$ H_t = O_t\\varTheta tanh(C_t)$$ \n",
    "这里的tanh函数确保隐藏状态元素值在 $[-1,1]$ 之间。\n",
    "\n",
    "需要注意的是，当输出门近似1时，记忆细胞信息将传递到隐藏状态供输出层使用；当输出门近似0时，记忆细胞信息只自己保留。图6.10展示了长短期记中的隐藏状态的计算。\n"
   ]
  },
  {
   "cell_type": "markdown",
   "metadata": {},
   "source": [
    "<img src= 'lstm4.png' width = 500></img>"
   ]
  },
  {
   "cell_type": "markdown",
   "metadata": {},
   "source": []
  },
  {
   "cell_type": "markdown",
   "metadata": {},
   "source": []
  }
 ],
 "metadata": {
  "kernelspec": {
   "display_name": "Python 3",
   "language": "python",
   "name": "python3"
  },
  "language_info": {
   "codemirror_mode": {
    "name": "ipython",
    "version": 3
   },
   "file_extension": ".py",
   "mimetype": "text/x-python",
   "name": "python",
   "nbconvert_exporter": "python",
   "pygments_lexer": "ipython3",
   "version": "3.6.10"
  }
 },
 "nbformat": 4,
 "nbformat_minor": 4
}
