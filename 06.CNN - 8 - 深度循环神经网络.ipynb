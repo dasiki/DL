{
 "cells": [
  {
   "cell_type": "markdown",
   "metadata": {},
   "source": [
    "## **深度循环网络**\n",
    "\n",
    "深度循环神经网络中，隐藏状态的信息不断传递至当前层的下一时间步和当前时间步的下一层。"
   ]
  },
  {
   "cell_type": "markdown",
   "metadata": {},
   "source": []
  },
  {
   "cell_type": "markdown",
   "metadata": {},
   "source": [
    "在深度学习当中，通常会用到含有多个隐藏层的循环神经网络，也称为深度循环神经网络。\n",
    "\n",
    "图6.11 演示了一个有 $L$ 个隐藏层的深度循环神经网络，每个隐藏状态不断传递至当前层的下一时间步和当前时间步的下一层。\n",
    "\n",
    "具体来说，在时间步 $t$里，设小批量输入 $X_t \\in \\mathcal{R}^{n\\times d}$（样本数量为n，输入个数为d）,第 $l$ 隐藏层 $(l=1,2,\\cdots,L)$ 的隐藏状态为 $H_t^{(l)}\\in\\mathcal{R}^{n\\times h}$（隐藏单元个数为h），输出层变量为 $O_t\\in\\mathcal{R}^{n\\times q}$（输出个数为q），且隐藏层的激活函数为 $\\phi$。第 1 隐藏层的隐藏状态和之前的计算一样：\n",
    "#### $$ H_t^{(1)} = \\phi(X_tW_{xh}^{(1)} + H_{t-1}^{(l)}W_{hh}^{(1)} + b_h^{(1)})$$ \n",
    "其中权重 $W_{xh}^{(l)}\\in \\mathcal{R}^{d\\times h}$、 $W_{hh}^{(l)}\\in \\mathcal{R}^{h\\times h}$ 和偏差 $b_h^{(l)}\\in \\mathcal{R}^{1\\times h}$ 分别为第 1 隐藏层的模型参数。\n",
    "\n",
    "当 $1 < l\\leq L$ 时，第 $l$ 隐藏层的隐藏状态的表达式为\n",
    "#### $$ H_t^{(l)} = \\phi(H_t^{(l-1)}W_{xh}^{(l)} + H_{t-1}^{(l)}W_{hh}^{(1)} + b_h^{(l)})$$\n",
    "其中权重 $W_{xh}^{(l)}\\in \\mathcal{R}^{h\\times h}$、 $W_{hh}^{(l)}\\in \\mathcal{R}^{h\\times h}$ 和偏差 $b_h^{(l)}\\in \\mathcal{R}^{1\\times h}$ 分别为第 $l$ 隐藏层的模型参数。\n",
    "\n",
    "同多层感知机一样，隐藏层个数 $L$和隐藏单元个数 $h$ 都是超参数。此外，如果将 隐藏状态的计算换成门控循环单元或者长短期记忆的计算，我们可以得到深度门控循环神经网络。"
   ]
  },
  {
   "cell_type": "markdown",
   "metadata": {},
   "source": [
    "<img src = 'dcnn.png' ></img>"
   ]
  },
  {
   "cell_type": "markdown",
   "metadata": {},
   "source": []
  },
  {
   "cell_type": "markdown",
   "metadata": {},
   "source": []
  }
 ],
 "metadata": {
  "kernelspec": {
   "display_name": "Python 3",
   "language": "python",
   "name": "python3"
  },
  "language_info": {
   "codemirror_mode": {
    "name": "ipython",
    "version": 3
   },
   "file_extension": ".py",
   "mimetype": "text/x-python",
   "name": "python",
   "nbconvert_exporter": "python",
   "pygments_lexer": "ipython3",
   "version": "3.6.10"
  }
 },
 "nbformat": 4,
 "nbformat_minor": 4
}
