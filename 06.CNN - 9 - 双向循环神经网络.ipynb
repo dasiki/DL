{
 "cells": [
  {
   "cell_type": "markdown",
   "metadata": {},
   "source": [
    "## **双向循环神经网络**"
   ]
  },
  {
   "cell_type": "markdown",
   "metadata": {},
   "source": []
  },
  {
   "cell_type": "markdown",
   "metadata": {},
   "source": [
    "之前介绍的循环神经网络都是假定当前时间步是由前面的较早时间步的序列决定的，因此，它们都将信息通过隐藏状态从前往后传递。有时候，当前时间步也可能由后面时间步决定。例如，当我们写下一个句子时，可能会根据句子后面的词来修改句子前面的用词。\n",
    "\n",
    "**双向循环神经网络通过增加从后往前传递信息的隐藏层来更灵活地处理这类信息**。 图6.12演示了一个含单隐藏层的双向循环神经网络的架构。\n",
    "\n",
    "给定时间步 $t$ 的小批量输入 $X_t\\in\\mathcal{R}^{n\\times d}$（样本数为n，输入个数为d）和隐藏层激活函数为 $\\phi$。在双向循环神经网络的架构中，设该时间步正向隐藏状态为 $\\mathop{H}^{\\rightarrow}_t\\in\\mathcal{R}^{n\\times h}$（正向隐藏单元个数为h），反向隐藏状态 $\\mathop{H}^{\\leftarrow}_t\\in\\mathcal{R}^{n\\times h}$（反向隐藏单元个数为h）。我们可以分别计算正向隐藏状态和反向隐藏状态：\n",
    "#### $$\\begin{align} & \\mathop{H_t}^{\\rightarrow} = \\phi(X_tW_{xh}^{(f)} + \\mathop{H_{t-1}}\\limits^{\\rightarrow}W_{hh}^{(f)} + b_h^{(f)}) \\\\\n",
    "                    & \\mathop{H_t}^{\\leftarrow} = \\phi(X_tW_{xh}^{(b)} + \\mathop{H_{t+1}}\\limits^{\\leftarrow}W_{hh}^{(b)} + b_h^{(b)})\\end{align}$$ \n",
    "其中，权重 $X_{xh}^{(f)}\\in\\mathcal{R}^{(d\\times h)}$、$X_{hh}^{(f)}\\in\\mathcal{R}^{(h\\times h)}$、$X_{xh}^{(b)}\\in\\mathcal{R}^{(d\\times h)}$、$X_{hh}^{(b)}\\in\\mathcal{R}^{(h\\times h)}$和偏差 $b_h^{(f)}\\in\\mathcal{R}^{(1\\times h)}$、$b_h^{(b)}\\in\\mathcal{R}^{(1\\times h)}$均为模型参数。\n",
    "\n",
    "然后，**我们连结两个方向的隐藏状态 $\\mathop{H}^{\\rightarrow}_t$ 和 $\\mathop{H}^{\\leftarrow}_t$ 来得到隐藏状态 $H_t\\in\\mathcal{R}^{n\\times 2h}$，并将其输入到输出层**。输出层计算输出 $O_t\\in\\mathcal{R}^{n\\times q}$（输出个数为q）： \n",
    "#### $$ O_t = H_tW_{hq} + b_q$$ \n",
    "其中，权重$W_{hq}\\in \\mathcal{R}^{2h\\times q}$和偏差 $b_q\\in\\mathcal{R}^{1\\times q}$ 为输出层的模型参数。不同方向 上的隐藏单元个数也可以不同。\n"
   ]
  },
  {
   "cell_type": "markdown",
   "metadata": {},
   "source": [
    "<img src='birnn.png'></img>"
   ]
  },
  {
   "cell_type": "markdown",
   "metadata": {},
   "source": []
  },
  {
   "cell_type": "markdown",
   "metadata": {},
   "source": []
  },
  {
   "cell_type": "markdown",
   "metadata": {},
   "source": [
    " "
   ]
  },
  {
   "cell_type": "markdown",
   "metadata": {},
   "source": [
    " "
   ]
  }
 ],
 "metadata": {
  "kernelspec": {
   "display_name": "Python 3",
   "language": "python",
   "name": "python3"
  },
  "language_info": {
   "codemirror_mode": {
    "name": "ipython",
    "version": 3
   },
   "file_extension": ".py",
   "mimetype": "text/x-python",
   "name": "python",
   "nbconvert_exporter": "python",
   "pygments_lexer": "ipython3",
   "version": "3.6.10"
  }
 },
 "nbformat": 4,
 "nbformat_minor": 4
}
